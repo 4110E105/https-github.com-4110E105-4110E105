{
  "nbformat": 4,
  "nbformat_minor": 0,
  "metadata": {
    "colab": {
      "provenance": []
    },
    "kernelspec": {
      "name": "python3",
      "display_name": "Python 3"
    },
    "language_info": {
      "name": "python"
    }
  },
  "cells": [
    {
      "cell_type": "code",
      "execution_count": 4,
      "metadata": {
        "colab": {
          "base_uri": "https://localhost:8080/"
        },
        "id": "06Cp4sLDt_t4",
        "outputId": "51567af3-643b-4078-e195-009c39c4deea"
      },
      "outputs": [
        {
          "output_type": "stream",
          "name": "stdout",
          "text": [
            "Enter your name:105\n",
            "HEllo ,105\n"
          ]
        }
      ],
      "source": [
        "a = input('Enter your name:')\n",
        "print('HEllo ,'+ a)"
      ]
    },
    {
      "cell_type": "code",
      "source": [
        "x = int(input(\"請輸入：\"))\n",
        "x\n",
        "\n",
        "b = x+30\n",
        "b"
      ],
      "metadata": {
        "colab": {
          "base_uri": "https://localhost:8080/"
        },
        "id": "BSuEg3sq8JKD",
        "outputId": "a918390d-6f29-4327-ea3e-695c9207da82"
      },
      "execution_count": 5,
      "outputs": [
        {
          "name": "stdout",
          "output_type": "stream",
          "text": [
            "請輸入：10\n"
          ]
        },
        {
          "output_type": "execute_result",
          "data": {
            "text/plain": [
              "40"
            ]
          },
          "metadata": {},
          "execution_count": 5
        }
      ]
    },
    {
      "cell_type": "code",
      "source": [
        "print(\"this is 4110E105 speaking\")\n",
        "a = input(\"請收入:\")\n",
        "print(a)\n",
        "\n",
        "type(a)"
      ],
      "metadata": {
        "colab": {
          "base_uri": "https://localhost:8080/"
        },
        "id": "0_VkZ2Jy8obK",
        "outputId": "236d4f50-a556-484f-c6a3-e30b1ab5ae40"
      },
      "execution_count": 6,
      "outputs": [
        {
          "output_type": "stream",
          "name": "stdout",
          "text": [
            "this is 4110E105 speaking\n",
            "請收入:abc\n",
            "abc\n"
          ]
        },
        {
          "output_type": "execute_result",
          "data": {
            "text/plain": [
              "str"
            ]
          },
          "metadata": {},
          "execution_count": 6
        }
      ]
    }
  ]
}